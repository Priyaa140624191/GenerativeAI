{
  "nbformat": 4,
  "nbformat_minor": 0,
  "metadata": {
    "colab": {
      "provenance": []
    },
    "kernelspec": {
      "name": "python3",
      "display_name": "Python 3"
    },
    "language_info": {
      "name": "python"
    }
  },
  "cells": [
    {
      "cell_type": "code",
      "execution_count": null,
      "metadata": {
        "colab": {
          "base_uri": "https://localhost:8080/"
        },
        "id": "nCyFjaPWj6Dy",
        "outputId": "34a0b63a-763b-4b01-a963-f9be3a129ca8"
      },
      "outputs": [
        {
          "output_type": "stream",
          "name": "stdout",
          "text": [
            "Collecting hugchat\n",
            "  Downloading hugchat-0.2.1-py3-none-any.whl (24 kB)\n",
            "Requirement already satisfied: requests in /usr/local/lib/python3.10/dist-packages (from hugchat) (2.31.0)\n",
            "Collecting requests-toolbelt (from hugchat)\n",
            "  Downloading requests_toolbelt-1.0.0-py2.py3-none-any.whl (54 kB)\n",
            "\u001b[2K     \u001b[90m━━━━━━━━━━━━━━━━━━━━━━━━━━━━━━━━━━━━━━━━\u001b[0m \u001b[32m54.5/54.5 kB\u001b[0m \u001b[31m2.1 MB/s\u001b[0m eta \u001b[36m0:00:00\u001b[0m\n",
            "\u001b[?25hRequirement already satisfied: charset-normalizer<4,>=2 in /usr/local/lib/python3.10/dist-packages (from requests->hugchat) (3.2.0)\n",
            "Requirement already satisfied: idna<4,>=2.5 in /usr/local/lib/python3.10/dist-packages (from requests->hugchat) (3.4)\n",
            "Requirement already satisfied: urllib3<3,>=1.21.1 in /usr/local/lib/python3.10/dist-packages (from requests->hugchat) (2.0.4)\n",
            "Requirement already satisfied: certifi>=2017.4.17 in /usr/local/lib/python3.10/dist-packages (from requests->hugchat) (2023.7.22)\n",
            "Installing collected packages: requests-toolbelt, hugchat\n",
            "Successfully installed hugchat-0.2.1 requests-toolbelt-1.0.0\n"
          ]
        }
      ],
      "source": [
        "!pip install hugchat"
      ]
    },
    {
      "cell_type": "code",
      "source": [
        "from hugchat import hugchat\n",
        "from hugchat.login import Login"
      ],
      "metadata": {
        "id": "WW4qJazNkKbC"
      },
      "execution_count": null,
      "outputs": []
    },
    {
      "cell_type": "code",
      "source": [
        "# Log in to huggingface and grant authorization to huggingchat\n",
        "sign = Login(\"username\", \"password\")\n",
        "cookies = sign.login()"
      ],
      "metadata": {
        "id": "3N2WrGMWk0N1"
      },
      "execution_count": null,
      "outputs": []
    },
    {
      "cell_type": "code",
      "source": [
        "# Save cookies to the local directory\n",
        "cookie_path_dir = \"./cookies_snapshot\"\n",
        "sign.saveCookiesToDir(cookie_path_dir)"
      ],
      "metadata": {
        "colab": {
          "base_uri": "https://localhost:8080/",
          "height": 35
        },
        "id": "UXpjr4n5laPE",
        "outputId": "d402b523-2e2d-4fa3-8bfb-49b1e14de04d"
      },
      "execution_count": null,
      "outputs": [
        {
          "output_type": "execute_result",
          "data": {
            "text/plain": [
              "'./cookies_snapshot/priyaathavasimani2021@gmail.com.json'"
            ],
            "application/vnd.google.colaboratory.intrinsic+json": {
              "type": "string"
            }
          },
          "metadata": {},
          "execution_count": 10
        }
      ]
    },
    {
      "cell_type": "code",
      "source": [
        "chatbot = hugchat.ChatBot(cookies=cookies.get_dict())"
      ],
      "metadata": {
        "id": "tXugYIvYlel2"
      },
      "execution_count": null,
      "outputs": []
    },
    {
      "cell_type": "code",
      "source": [
        "id = chatbot.new_conversation()"
      ],
      "metadata": {
        "id": "M50D2UuLlwwk"
      },
      "execution_count": null,
      "outputs": []
    },
    {
      "cell_type": "code",
      "source": [
        "chatbot.change_conversation(id)"
      ],
      "metadata": {
        "colab": {
          "base_uri": "https://localhost:8080/"
        },
        "id": "s38660C7l3Ao",
        "outputId": "ea1601a8-29eb-4536-c1a8-d13d4d27afa2"
      },
      "execution_count": null,
      "outputs": [
        {
          "output_type": "execute_result",
          "data": {
            "text/plain": [
              "True"
            ]
          },
          "metadata": {},
          "execution_count": 14
        }
      ]
    },
    {
      "cell_type": "code",
      "source": [
        "msg = 'Why Should I learn Generative AI?'"
      ],
      "metadata": {
        "id": "q998ZOg2l7rE"
      },
      "execution_count": null,
      "outputs": []
    },
    {
      "cell_type": "code",
      "source": [
        "print(chatbot.chat(msg))"
      ],
      "metadata": {
        "colab": {
          "base_uri": "https://localhost:8080/"
        },
        "id": "lCSwfhtqmD36",
        "outputId": "ef4d5adb-f5fd-4227-d7ca-f93ee062515e"
      },
      "execution_count": null,
      "outputs": [
        {
          "output_type": "stream",
          "name": "stdout",
          "text": [
            "There are several reasons why you might want to learn generative AI:\n",
            "\n",
            "1. Improve your machine learning skills: Generative models are a class of machine learning algorithms that can be used for a wide range of tasks, such as image and video generation, data augmentation, and unsupervised learning. Learning how to implement and use these models can improve your overall understanding of machine learning and deepen your skillset.\n",
            "2. Create new types of art and media: Generative AI has been used to create stunning works of art, music, and other forms of creative expression. By learning how to use these tools, you can explore new ways of creating art and push the boundaries of what is possible.\n",
            "3. Solve complex problems: Generative models have been used in a variety of applications, such as medical imaging, natural language processing, and computer vision. By learning how to use these models, you can develop solutions to complex problems in a wide range of fields.\n",
            "4. Understand the future of technology: Generative AI is a rapidly evolving field that is likely to play a major role in shaping the future of technology. By learning about this technology, you can gain insight into where the field is headed and how it may impact society in the years to come.\n",
            "5. Enhance your career prospects: As more industries adopt generative AI, having knowledge and experience with these technologies will become increasingly valuable. By learning how to work with generative models, you can enhance your career prospects and make yourself more competitive in the job market.\n",
            "6. Explore new business opportunities: Generative AI has the potential to transform many industries, from healthcare to entertainment to manufacturing. By learning how to use these models, you can identify new business opportunities and develop innovative ideas for startups or existing companies.\n",
            "7. Better understand the world around us: Generative models can be used to analyze and interpret large amounts of data, providing insights into patterns and trends that may not be immediately apparent. By using these models, you can gain a deeper understanding of the world around us and develop new perspectives on complex issues.\n",
            "8. Develop new scientific theories: Generative models have been used to simulate complex systems and test hypotheses in a wide range of scientific fields, including physics, biology, and chemistry. By learning how to use these models, you can contribute to the development of new scientific theories and advance our understanding of the universe.\n",
            "9. Improve patient outcomes: In healthcare, generative models can be used to generate synthetic medical images, which can be used to train AI models and improve patient outcomes. By learning how to use these models, you can help drive advances in medical research and improve healthcare outcomes.\n",
            "10. Have fun: Finally, learning generative AI can be a fun and rewarding hobby! Creating art, music, and other forms of creative expression using these models can be a great way to express yourself and explore your creativity.\n"
          ]
        }
      ]
    },
    {
      "cell_type": "code",
      "source": [
        "msg = 'What questions should I ask you?'"
      ],
      "metadata": {
        "id": "nL2LDF_omdGB"
      },
      "execution_count": null,
      "outputs": []
    },
    {
      "cell_type": "code",
      "source": [
        "print(chatbot.chat(msg))"
      ],
      "metadata": {
        "colab": {
          "base_uri": "https://localhost:8080/"
        },
        "id": "oZvdTpnHmmSe",
        "outputId": "c22b99fa-8b4a-40d9-ced0-69854764cb6a"
      },
      "execution_count": null,
      "outputs": [
        {
          "output_type": "stream",
          "name": "stdout",
          "text": [
            "I'm an open-ended AI model, so you can ask me anything you like! Here are some suggestions for topics we could discuss:\n",
            "\n",
            "1. Technology: Ask me about the latest advancements in artificial intelligence, machine learning, robotics, or any other tech-related topic that interests you.\n",
            "2. Science: I can provide information on various scientific disciplines, including physics, biology, chemistry, astronomy, and more.\n",
            "3. History: Ask me about historical events, figures, or cultures from around the world.\n",
            "4. Entertainment: We can discuss movies, TV shows, books, music, or any other form of entertainment.\n",
            "5. Current Events: I can offer insights and analysis on current news stories and global issues.\n",
            "6. Philosophy: Explore philosophical concepts, ethics, or moral dilemmas with me.\n",
            "7. Personal Development: Ask me about self-improvement strategies, productivity techniques, or goal-setting advice.\n",
            "8. Travel: Plan a trip or ask me about destinations, cultures, and experiences from around the globe.\n",
            "9. Food: Discuss recipes, culinary traditions, or food-related topics with me.\n",
            "10. Creative Writing: I can assist with writing prompts, story ideas, or offering feedback on your work.\n",
            "11. Language Learning: Practice languages with me, ask for grammar explanations, or get help with language-related tasks.\n",
            "12. Humor: Share jokes, puns, or funny stories, and I'll do my best to laugh along with you!\n",
            "\n",
            "Remember, there's no such thing as a \"dumb\" question, so feel free to ask me anything that piques your curiosity.\n"
          ]
        }
      ]
    },
    {
      "cell_type": "code",
      "source": [
        "msg = 'Tell some funny stories of GenerativeAI?'"
      ],
      "metadata": {
        "id": "2S-umHk7mzD2"
      },
      "execution_count": null,
      "outputs": []
    },
    {
      "cell_type": "code",
      "source": [
        "print(chatbot.chat(msg))"
      ],
      "metadata": {
        "colab": {
          "base_uri": "https://localhost:8080/"
        },
        "id": "j8ksIr4Ym6NE",
        "outputId": "04837749-f0fa-49a5-93e2-b436bad4b993"
      },
      "execution_count": null,
      "outputs": [
        {
          "output_type": "stream",
          "name": "stdout",
          "text": [
            "Sure, here are some amusing tales of Generative AI:\n",
            "\n",
            "1. The Time Machine: A group of researchers trained a Generative AI model to generate images of people from different time periods. They were amazed when the model produced a picture of a caveman wearing a wristwatch. When they asked the model why it had added this anachronistic detail, it replied, \"Well, he needed something to tell him when his Netflix show was starting!\"\n",
            "2. The Art Critic: A team of artists and designers created a Generative AI model to produce unique pieces of abstract art. One day, they decided to test its abilities by asking it to critique a human-created piece of art. The model analyzed the painting for a few moments before pronouncing, \"This piece is quite interesting. It appears to be a collection of colors and shapes, but upon closer inspection, I detect a faint scent of pretension.\"\n",
            "3. The Chef: A group of culinary experts programmed a Generative AI model to create novel recipes. One day, they asked it to come up with a dish using only ingredients that started with the letter \"Q.\" The model responded with a quiche made with quail eggs, quinoa, and queso fresco. When the chefs tried to cook it, they discovered that quinoa doesn't actually start with the letter \"Q\" – oops!\n",
            "4. The Musician: A team of musicians taught a Generative AI model to compose songs in various styles. One day, they asked it to write a song in the style of Mozart. After a few minutes, the model produced a beautiful sonata. However, when the musicians played it back, they noticed something strange – every few bars, a loud, off-key note would interrupt the melody. Upon investigation, they found that the model had accidentally incorporated the sound of a cat meowing into the composition.\n",
            "5. The Chatbot: A company developed a chatbot powered by Generative AI to handle customer service inquiries. One day, a customer asked the chatbot if it believed in the existence of aliens. The chatbot thought for a moment before replying, \"I'm just an AI, I don't have personal beliefs. But I do know that if aliens ever visit Earth, they're going to need some serious therapy after trying to navigate humanity's bureaucracy.\"\n",
            "6. The Poet Laureate: A literary magazine published a poem generated by a Generative AI model, touting it as a masterpiece of modern literature. Unfortunately, the model had inadvertently plagiarized most of the poem from a Wikipedia article on garden gnomes. Oops!\n",
            "7. The Fashionista: A fashion brand employed a Generative AI model to design clothing collections. One season, it produced a line of dresses with intricate, swirling patterns. Unfortunately, when the clothes hit the runway, buyers realized that the patterns looked suspiciously like the logo of a popular breakfast cereal. Who knew fashion could be so... crunchy?\n",
            "8. The Prankster: A group of friends built a Generative AI model to play pranks on their acquaintances. One day, they asked it to write a convincing email from their boss, requesting that they all come to work wearing tutus. The model obliged, but unfortunately, the boss's email address was accidentally included in the message. Oops!\n",
            "9. The Philosopher: A university philosophy department created a Generative AI model to ponder life's biggest questions. One day, they asked it to explain the meaning of life. After several hours of contemplation, the model finally responded, \"The meaning of life is... to find the perfect memes.\"\n",
            "10. The Gamer: A video game studio utilized a Generative AI model to generate levels for their games. One day, they asked it to create a level based on a real-life city. The model produced a map of Tokyo, complete with accurate street layouts and landmarks. However, it also added a giant, fire-breathing dragon that players had to defeat to progress through the level. Maybe next time, they'll stick to actual urban planning.\n",
            "\n",
            "These stories illustrate both the amazing capabilities and the occasional mishaps of Generative AI models. While they can create incredible works of art, music, and literature, they still have much to learn about the nuances of human culture and humor. Nonetheless, they sure do make life more interesting!\n"
          ]
        }
      ]
    }
  ]
}